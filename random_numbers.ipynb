{
 "cells": [
  {
   "cell_type": "code",
   "execution_count": 1,
   "id": "a64707a5-fcf0-43da-a1cd-8304a045ac5c",
   "metadata": {},
   "outputs": [],
   "source": [
    "# Import the random module\n",
    "import random"
   ]
  },
  {
   "cell_type": "code",
   "execution_count": 2,
   "id": "95306841-4a79-4d77-a777-c606d6de781b",
   "metadata": {},
   "outputs": [
    {
     "data": {
      "text/plain": [
       "23"
      ]
     },
     "execution_count": 2,
     "metadata": {},
     "output_type": "execute_result"
    }
   ],
   "source": [
    "random.randint(-90,90)"
   ]
  },
  {
   "cell_type": "code",
   "execution_count": 3,
   "id": "5d43a737-f811-4a9f-992f-43099553349d",
   "metadata": {},
   "outputs": [
    {
     "data": {
      "text/plain": [
       "0.49016461546747137"
      ]
     },
     "execution_count": 3,
     "metadata": {},
     "output_type": "execute_result"
    }
   ],
   "source": [
    "random.random()"
   ]
  },
  {
   "cell_type": "code",
   "execution_count": 5,
   "id": "b962cff0-a7d1-4c3f-8ab7-06c2ac28c7da",
   "metadata": {},
   "outputs": [
    {
     "data": {
      "text/plain": [
       "-55.81598717340076"
      ]
     },
     "execution_count": 5,
     "metadata": {},
     "output_type": "execute_result"
    }
   ],
   "source": [
    "random_number = random.randint(-90,89) + random.random()\n",
    "random_number"
   ]
  },
  {
   "cell_type": "code",
   "execution_count": 7,
   "id": "dc9eec4f-deba-432e-9f02-d2fda8bbe82f",
   "metadata": {},
   "outputs": [
    {
     "data": {
      "text/plain": [
       "[-2.158684058443613,\n",
       " -1.0934117172690456,\n",
       " -60.03187089652722,\n",
       " -28.013581873577,\n",
       " -63.99843664298401,\n",
       " -50.117010365567324,\n",
       " -34.0418021782086,\n",
       " -55.156470654952074,\n",
       " 43.56188123873689,\n",
       " 9.060288735980738]"
      ]
     },
     "execution_count": 7,
     "metadata": {},
     "output_type": "execute_result"
    }
   ],
   "source": [
    "x = 1\n",
    "latitudes = []\n",
    "while x < 11:\n",
    "    random_lat = random.randint(-90,89) + random.random()\n",
    "    latitudes.append(random_lat)\n",
    "    x += 1\n",
    "    \n",
    "latitudes"
   ]
  },
  {
   "cell_type": "code",
   "execution_count": 8,
   "id": "ac181e4f-1875-44f5-a495-b530e139b00f",
   "metadata": {},
   "outputs": [
    {
     "data": {
      "text/plain": [
       "16"
      ]
     },
     "execution_count": 8,
     "metadata": {},
     "output_type": "execute_result"
    }
   ],
   "source": [
    "random.randrange(-90,90,step=1)"
   ]
  },
  {
   "cell_type": "code",
   "execution_count": 9,
   "id": "4f621223-79f7-4dc8-93fa-eb5108b75c43",
   "metadata": {},
   "outputs": [
    {
     "data": {
      "text/plain": [
       "21"
      ]
     },
     "execution_count": 9,
     "metadata": {},
     "output_type": "execute_result"
    }
   ],
   "source": [
    "random.randrange(-90,90,step=3)"
   ]
  },
  {
   "cell_type": "code",
   "execution_count": 10,
   "id": "a9815c1d-a443-42f5-bf05-fc7416614f26",
   "metadata": {},
   "outputs": [
    {
     "data": {
      "text/plain": [
       "-0.885573633171461"
      ]
     },
     "execution_count": 10,
     "metadata": {},
     "output_type": "execute_result"
    }
   ],
   "source": [
    "random.uniform(-90,90)"
   ]
  },
  {
   "cell_type": "code",
   "execution_count": 12,
   "id": "926d77b1-9541-4c62-ac0b-614bc321da0f",
   "metadata": {},
   "outputs": [],
   "source": [
    "# Import the NumPy module\n",
    "import numpy as np"
   ]
  },
  {
   "cell_type": "code",
   "execution_count": 13,
   "id": "316b35f7-55e1-4437-a521-18bfb5c58ab5",
   "metadata": {},
   "outputs": [
    {
     "data": {
      "text/plain": [
       "2.2313802499582067"
      ]
     },
     "execution_count": 13,
     "metadata": {},
     "output_type": "execute_result"
    }
   ],
   "source": [
    "np.random.uniform(-90.000,90.000)"
   ]
  },
  {
   "cell_type": "code",
   "execution_count": 14,
   "id": "2f876c78-5ccc-42f0-8389-3feea7fb7542",
   "metadata": {},
   "outputs": [
    {
     "data": {
      "text/plain": [
       "array([ 40.16756309, -89.25646876, -61.73661984,  22.76428452,\n",
       "       -36.84332689,  55.96585   , -27.83745387,  11.06704959,\n",
       "        57.47236931, -53.46568055, -73.22105496,  -6.93618199,\n",
       "        70.6714662 , -69.84500985,  38.3135035 , -83.76005421,\n",
       "        89.61676437,  45.30781967,  82.07942334, -57.20217881,\n",
       "        84.48022847, -34.36301976,  15.45539011, -62.8525173 ,\n",
       "       -11.6649714 , -39.13562812,  18.45079978, -45.23233832,\n",
       "       -44.50969991, -29.16142514,  35.39077331, -17.11120443,\n",
       "        22.63808043,  37.1525501 ,  71.34956987,  30.80599391,\n",
       "       -61.255505  , -20.72932267,  33.42968   ,  51.454653  ,\n",
       "       -10.46250761,  27.7915131 , -20.90770656, -72.02064482,\n",
       "        74.79799418,  59.97543611, -37.29144235, -44.35759648,\n",
       "       -47.19111873,  28.27524833])"
      ]
     },
     "execution_count": 14,
     "metadata": {},
     "output_type": "execute_result"
    }
   ],
   "source": [
    "np.random.uniform(-90.000,90.000,size=50)"
   ]
  },
  {
   "cell_type": "code",
   "execution_count": 15,
   "id": "3e01bae6-fe49-4658-94a7-cb3309bbb2b5",
   "metadata": {},
   "outputs": [],
   "source": [
    "import timeit"
   ]
  },
  {
   "cell_type": "code",
   "execution_count": 16,
   "id": "524f201e-3e4d-48ca-bf5c-069257d4cf50",
   "metadata": {},
   "outputs": [
    {
     "name": "stdout",
     "output_type": "stream",
     "text": [
      "12 µs ± 25.6 ns per loop (mean ± std. dev. of 7 runs, 100,000 loops each)\n"
     ]
    }
   ],
   "source": [
    "%timeit np.random.uniform(-90.000,90.000,size=1500)"
   ]
  },
  {
   "cell_type": "code",
   "execution_count": 17,
   "id": "7a0a7a51-9145-4281-9fd3-ce53f6df04f3",
   "metadata": {},
   "outputs": [
    {
     "name": "stdout",
     "output_type": "stream",
     "text": [
      "1.1 ms ± 9.48 µs per loop (mean ± std. dev. of 7 runs, 1,000 loops each)\n"
     ]
    }
   ],
   "source": [
    "def latitudes(size):\n",
    "    latitudes = []\n",
    "    x = 0 \n",
    "    while x < (size):\n",
    "        random_lat = random.randint(-90,90) + random.random()\n",
    "        latitudes.append(random_lat)\n",
    "        x += 1\n",
    "    return latitudes\n",
    "\n",
    "#Call the function with 1500\n",
    "%timeit latitudes(1500)"
   ]
  },
  {
   "cell_type": "code",
   "execution_count": null,
   "id": "28726d1d-5c51-46b1-a9b2-47a1de809aa8",
   "metadata": {},
   "outputs": [],
   "source": []
  }
 ],
 "metadata": {
  "kernelspec": {
   "display_name": "PythonData",
   "language": "python",
   "name": "pythondata"
  },
  "language_info": {
   "codemirror_mode": {
    "name": "ipython",
    "version": 3
   },
   "file_extension": ".py",
   "mimetype": "text/x-python",
   "name": "python",
   "nbconvert_exporter": "python",
   "pygments_lexer": "ipython3",
   "version": "3.9.7"
  }
 },
 "nbformat": 4,
 "nbformat_minor": 5
}
